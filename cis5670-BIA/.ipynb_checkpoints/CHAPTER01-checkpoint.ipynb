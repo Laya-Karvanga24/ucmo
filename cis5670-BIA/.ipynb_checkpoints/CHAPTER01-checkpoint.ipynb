{
 "cells": [
  {
   "cell_type": "raw",
   "id": "ef9b835d-f672-48f5-a1d8-892c72e721eb",
   "metadata": {},
   "source": [
    "Chapter 1 LIFECYCLE OF DATA ANALYTICS"
   ]
  },
  {
   "cell_type": "code",
   "execution_count": 1,
   "id": "87c5b1b3-d6dd-4f9c-86fc-cfb9bc42a898",
   "metadata": {},
   "outputs": [],
   "source": [
    "import pandas as pd"
   ]
  },
  {
   "cell_type": "code",
   "execution_count": 2,
   "id": "a80f0bf6-7d56-4866-8970-1ee69c118dea",
   "metadata": {},
   "outputs": [
    {
     "name": "stdout",
     "output_type": "stream",
     "text": [
      "Hello,sir\n"
     ]
    }
   ],
   "source": [
    "print('Hello,sir')"
   ]
  },
  {
   "cell_type": "code",
   "execution_count": 3,
   "id": "c570cb64-663d-4440-9994-0903a8e66920",
   "metadata": {},
   "outputs": [
    {
     "name": "stdout",
     "output_type": "stream",
     "text": [
      "thankyou sir!\n"
     ]
    }
   ],
   "source": [
    "print('thankyou sir!')"
   ]
  },
  {
   "cell_type": "code",
   "execution_count": null,
   "id": "7b3e1dc4-cada-45ac-b943-711738cc03ea",
   "metadata": {},
   "outputs": [],
   "source": []
  }
 ],
 "metadata": {
  "kernelspec": {
   "display_name": "conda_python3",
   "language": "python",
   "name": "conda_python3"
  },
  "language_info": {
   "codemirror_mode": {
    "name": "ipython",
    "version": 3
   },
   "file_extension": ".py",
   "mimetype": "text/x-python",
   "name": "python",
   "nbconvert_exporter": "python",
   "pygments_lexer": "ipython3",
   "version": "3.10.16"
  }
 },
 "nbformat": 4,
 "nbformat_minor": 5
}
